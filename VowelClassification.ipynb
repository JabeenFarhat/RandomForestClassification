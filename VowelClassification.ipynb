{
 "cells": [
  {
   "cell_type": "code",
   "execution_count": null,
   "id": "ec6666ec",
   "metadata": {},
   "outputs": [],
   "source": [
    "#RandomForestClassification, accuracy report, confusion matrix, compute feature importance (MDI & permutation), \n",
    "\n",
    "#This is the code for classifying vowels in Punjabi language. But the code can be modified to classify \n",
    "#similar data.\n",
    "#\n",
    "#The dataset consists of only oral vowels as nasal/nasalized vowels were not included in the current analysis.\n",
    "#\n",
    "#Variables: Speaker (9 males), raw F0 (Hz), bark normalized first three formants, and vowel duration normalized by word\n",
    "#duration"
   ]
  },
  {
   "cell_type": "markdown",
   "id": "8fd72fdd",
   "metadata": {},
   "source": [
    "#Load main libraries"
   ]
  },
  {
   "cell_type": "code",
   "execution_count": 3,
   "id": "d5052e76",
   "metadata": {},
   "outputs": [],
   "source": [
    "%matplotlib inline\n",
    "import matplotlib.pyplot as plt\n",
    "import numpy as np\n",
    "import pandas as pd"
   ]
  },
  {
   "cell_type": "markdown",
   "id": "a5f04409",
   "metadata": {},
   "source": [
    "# import data"
   ]
  },
  {
   "cell_type": "code",
   "execution_count": 7,
   "id": "fe6910e1",
   "metadata": {},
   "outputs": [
    {
     "data": {
      "text/html": [
       "<div>\n",
       "<style scoped>\n",
       "    .dataframe tbody tr th:only-of-type {\n",
       "        vertical-align: middle;\n",
       "    }\n",
       "\n",
       "    .dataframe tbody tr th {\n",
       "        vertical-align: top;\n",
       "    }\n",
       "\n",
       "    .dataframe thead th {\n",
       "        text-align: right;\n",
       "    }\n",
       "</style>\n",
       "<table border=\"1\" class=\"dataframe\">\n",
       "  <thead>\n",
       "    <tr style=\"text-align: right;\">\n",
       "      <th></th>\n",
       "      <th>speaker</th>\n",
       "      <th>vowel</th>\n",
       "      <th>F0</th>\n",
       "      <th>f1bark</th>\n",
       "      <th>f2bark</th>\n",
       "      <th>f3bark</th>\n",
       "      <th>durZ</th>\n",
       "    </tr>\n",
       "  </thead>\n",
       "  <tbody>\n",
       "    <tr>\n",
       "      <th>0</th>\n",
       "      <td>1</td>\n",
       "      <td>ə</td>\n",
       "      <td>132.0</td>\n",
       "      <td>3.766033</td>\n",
       "      <td>11.954046</td>\n",
       "      <td>14.463584</td>\n",
       "      <td>0.652319</td>\n",
       "    </tr>\n",
       "    <tr>\n",
       "      <th>1</th>\n",
       "      <td>1</td>\n",
       "      <td>ɪ</td>\n",
       "      <td>131.0</td>\n",
       "      <td>3.323425</td>\n",
       "      <td>12.670158</td>\n",
       "      <td>14.407519</td>\n",
       "      <td>1.563838</td>\n",
       "    </tr>\n",
       "    <tr>\n",
       "      <th>2</th>\n",
       "      <td>1</td>\n",
       "      <td>ɪ</td>\n",
       "      <td>147.0</td>\n",
       "      <td>4.070533</td>\n",
       "      <td>13.139815</td>\n",
       "      <td>14.940423</td>\n",
       "      <td>2.856070</td>\n",
       "    </tr>\n",
       "    <tr>\n",
       "      <th>3</th>\n",
       "      <td>1</td>\n",
       "      <td>ə</td>\n",
       "      <td>151.0</td>\n",
       "      <td>4.601947</td>\n",
       "      <td>9.453999</td>\n",
       "      <td>14.492741</td>\n",
       "      <td>1.679061</td>\n",
       "    </tr>\n",
       "    <tr>\n",
       "      <th>4</th>\n",
       "      <td>1</td>\n",
       "      <td>ə</td>\n",
       "      <td>141.0</td>\n",
       "      <td>4.348614</td>\n",
       "      <td>9.713922</td>\n",
       "      <td>14.307432</td>\n",
       "      <td>0.138925</td>\n",
       "    </tr>\n",
       "  </tbody>\n",
       "</table>\n",
       "</div>"
      ],
      "text/plain": [
       "   speaker vowel     F0    f1bark     f2bark     f3bark      durZ\n",
       "0        1     ə  132.0  3.766033  11.954046  14.463584  0.652319\n",
       "1        1     ɪ  131.0  3.323425  12.670158  14.407519  1.563838\n",
       "2        1     ɪ  147.0  4.070533  13.139815  14.940423  2.856070\n",
       "3        1     ə  151.0  4.601947   9.453999  14.492741  1.679061\n",
       "4        1     ə  141.0  4.348614   9.713922  14.307432  0.138925"
      ]
     },
     "execution_count": 7,
     "metadata": {},
     "output_type": "execute_result"
    }
   ],
   "source": [
    "punjabi = pd.read_csv(\"punOralNorm.csv\")\n",
    "punjabi.head()"
   ]
  },
  {
   "cell_type": "markdown",
   "id": "81a57eb0",
   "metadata": {},
   "source": [
    "#check variables look ok, check data shape"
   ]
  },
  {
   "cell_type": "code",
   "execution_count": 9,
   "id": "83374ad1",
   "metadata": {},
   "outputs": [
    {
     "data": {
      "text/plain": [
       "speaker      int64\n",
       "vowel       object\n",
       "F0         float64\n",
       "f1bark     float64\n",
       "f2bark     float64\n",
       "f3bark     float64\n",
       "durZ       float64\n",
       "dtype: object"
      ]
     },
     "execution_count": 9,
     "metadata": {},
     "output_type": "execute_result"
    }
   ],
   "source": [
    "punjabi.dtypes"
   ]
  },
  {
   "cell_type": "code",
   "execution_count": 10,
   "id": "f99ef7a7",
   "metadata": {},
   "outputs": [
    {
     "name": "stdout",
     "output_type": "stream",
     "text": [
      "(3175, 7)\n"
     ]
    }
   ],
   "source": [
    "print(punjabi.shape)"
   ]
  },
  {
   "cell_type": "markdown",
   "id": "997eddd9",
   "metadata": {},
   "source": [
    "#remove missing data points"
   ]
  },
  {
   "cell_type": "code",
   "execution_count": 12,
   "id": "002a785d",
   "metadata": {},
   "outputs": [
    {
     "name": "stdout",
     "output_type": "stream",
     "text": [
      "(3118, 7)\n"
     ]
    }
   ],
   "source": [
    "punjabiMissingDropped = punjabi.dropna()\n",
    "print(punjabiMissingDropped.shape)"
   ]
  },
  {
   "cell_type": "code",
   "execution_count": null,
   "id": "36dcad8c",
   "metadata": {},
   "outputs": [],
   "source": [
    "#After initial tests on modeling, I decided to remove the rounded back vowel as it has only 33 occurrences.\n",
    "#But don't remove data points randomly just to improve model metrics. My decision is based on a separate analysis\n",
    "#not shown here."
   ]
  },
  {
   "cell_type": "code",
   "execution_count": 13,
   "id": "1aed523f",
   "metadata": {},
   "outputs": [
    {
     "data": {
      "text/html": [
       "<div>\n",
       "<style scoped>\n",
       "    .dataframe tbody tr th:only-of-type {\n",
       "        vertical-align: middle;\n",
       "    }\n",
       "\n",
       "    .dataframe tbody tr th {\n",
       "        vertical-align: top;\n",
       "    }\n",
       "\n",
       "    .dataframe thead th {\n",
       "        text-align: right;\n",
       "    }\n",
       "</style>\n",
       "<table border=\"1\" class=\"dataframe\">\n",
       "  <thead>\n",
       "    <tr style=\"text-align: right;\">\n",
       "      <th></th>\n",
       "      <th>speaker</th>\n",
       "      <th>vowel</th>\n",
       "      <th>F0</th>\n",
       "      <th>f1bark</th>\n",
       "      <th>f2bark</th>\n",
       "      <th>f3bark</th>\n",
       "      <th>durZ</th>\n",
       "    </tr>\n",
       "  </thead>\n",
       "  <tbody>\n",
       "    <tr>\n",
       "      <th>0</th>\n",
       "      <td>1</td>\n",
       "      <td>ə</td>\n",
       "      <td>132.0</td>\n",
       "      <td>3.766033</td>\n",
       "      <td>11.954046</td>\n",
       "      <td>14.463584</td>\n",
       "      <td>0.652319</td>\n",
       "    </tr>\n",
       "    <tr>\n",
       "      <th>1</th>\n",
       "      <td>1</td>\n",
       "      <td>ɪ</td>\n",
       "      <td>131.0</td>\n",
       "      <td>3.323425</td>\n",
       "      <td>12.670158</td>\n",
       "      <td>14.407519</td>\n",
       "      <td>1.563838</td>\n",
       "    </tr>\n",
       "    <tr>\n",
       "      <th>2</th>\n",
       "      <td>1</td>\n",
       "      <td>ɪ</td>\n",
       "      <td>147.0</td>\n",
       "      <td>4.070533</td>\n",
       "      <td>13.139815</td>\n",
       "      <td>14.940423</td>\n",
       "      <td>2.856070</td>\n",
       "    </tr>\n",
       "    <tr>\n",
       "      <th>3</th>\n",
       "      <td>1</td>\n",
       "      <td>ə</td>\n",
       "      <td>151.0</td>\n",
       "      <td>4.601947</td>\n",
       "      <td>9.453999</td>\n",
       "      <td>14.492741</td>\n",
       "      <td>1.679061</td>\n",
       "    </tr>\n",
       "    <tr>\n",
       "      <th>4</th>\n",
       "      <td>1</td>\n",
       "      <td>ə</td>\n",
       "      <td>141.0</td>\n",
       "      <td>4.348614</td>\n",
       "      <td>9.713922</td>\n",
       "      <td>14.307432</td>\n",
       "      <td>0.138925</td>\n",
       "    </tr>\n",
       "    <tr>\n",
       "      <th>...</th>\n",
       "      <td>...</td>\n",
       "      <td>...</td>\n",
       "      <td>...</td>\n",
       "      <td>...</td>\n",
       "      <td>...</td>\n",
       "      <td>...</td>\n",
       "      <td>...</td>\n",
       "    </tr>\n",
       "    <tr>\n",
       "      <th>3168</th>\n",
       "      <td>9</td>\n",
       "      <td>e</td>\n",
       "      <td>138.0</td>\n",
       "      <td>4.321120</td>\n",
       "      <td>11.768097</td>\n",
       "      <td>13.494696</td>\n",
       "      <td>-0.299687</td>\n",
       "    </tr>\n",
       "    <tr>\n",
       "      <th>3169</th>\n",
       "      <td>9</td>\n",
       "      <td>ɛ</td>\n",
       "      <td>136.0</td>\n",
       "      <td>6.162236</td>\n",
       "      <td>11.053225</td>\n",
       "      <td>13.522632</td>\n",
       "      <td>0.285550</td>\n",
       "    </tr>\n",
       "    <tr>\n",
       "      <th>3171</th>\n",
       "      <td>9</td>\n",
       "      <td>a</td>\n",
       "      <td>142.0</td>\n",
       "      <td>5.411215</td>\n",
       "      <td>10.654784</td>\n",
       "      <td>13.388047</td>\n",
       "      <td>-0.362662</td>\n",
       "    </tr>\n",
       "    <tr>\n",
       "      <th>3172</th>\n",
       "      <td>9</td>\n",
       "      <td>o</td>\n",
       "      <td>141.0</td>\n",
       "      <td>4.238221</td>\n",
       "      <td>7.059956</td>\n",
       "      <td>13.825011</td>\n",
       "      <td>0.436843</td>\n",
       "    </tr>\n",
       "    <tr>\n",
       "      <th>3173</th>\n",
       "      <td>9</td>\n",
       "      <td>a</td>\n",
       "      <td>122.0</td>\n",
       "      <td>5.912713</td>\n",
       "      <td>10.380575</td>\n",
       "      <td>13.201951</td>\n",
       "      <td>-0.389643</td>\n",
       "    </tr>\n",
       "  </tbody>\n",
       "</table>\n",
       "<p>3088 rows × 7 columns</p>\n",
       "</div>"
      ],
      "text/plain": [
       "      speaker vowel     F0    f1bark     f2bark     f3bark      durZ\n",
       "0           1     ə  132.0  3.766033  11.954046  14.463584  0.652319\n",
       "1           1     ɪ  131.0  3.323425  12.670158  14.407519  1.563838\n",
       "2           1     ɪ  147.0  4.070533  13.139815  14.940423  2.856070\n",
       "3           1     ə  151.0  4.601947   9.453999  14.492741  1.679061\n",
       "4           1     ə  141.0  4.348614   9.713922  14.307432  0.138925\n",
       "...       ...   ...    ...       ...        ...        ...       ...\n",
       "3168        9     e  138.0  4.321120  11.768097  13.494696 -0.299687\n",
       "3169        9     ɛ  136.0  6.162236  11.053225  13.522632  0.285550\n",
       "3171        9     a  142.0  5.411215  10.654784  13.388047 -0.362662\n",
       "3172        9     o  141.0  4.238221   7.059956  13.825011  0.436843\n",
       "3173        9     a  122.0  5.912713  10.380575  13.201951 -0.389643\n",
       "\n",
       "[3088 rows x 7 columns]"
      ]
     },
     "execution_count": 13,
     "metadata": {},
     "output_type": "execute_result"
    }
   ],
   "source": [
    "index_names = punjabiMissingDropped[ punjabiMissingDropped['vowel'] == \"ɔ\" ].index\n",
    "  \n",
    "# drop these row indexes from dataFrame\n",
    "punjabiEx = punjabiMissingDropped.drop(index_names, inplace = False)\n",
    "  \n",
    "punjabiEx"
   ]
  },
  {
   "cell_type": "code",
   "execution_count": 14,
   "id": "22cb313d",
   "metadata": {},
   "outputs": [
    {
     "data": {
      "text/plain": [
       "(3088,)"
      ]
     },
     "execution_count": 14,
     "metadata": {},
     "output_type": "execute_result"
    }
   ],
   "source": [
    "punjabiEx[\"vowel\"].shape\n",
    "#removed 30 ɔ. The remaining 3 were lost with nas."
   ]
  },
  {
   "cell_type": "markdown",
   "id": "ccc2b23d",
   "metadata": {},
   "source": [
    "#create feature matrix to predict labels (vowel). x has all the columns except vowel."
   ]
  },
  {
   "cell_type": "code",
   "execution_count": 16,
   "id": "81b84fe3",
   "metadata": {},
   "outputs": [
    {
     "data": {
      "text/html": [
       "<div>\n",
       "<style scoped>\n",
       "    .dataframe tbody tr th:only-of-type {\n",
       "        vertical-align: middle;\n",
       "    }\n",
       "\n",
       "    .dataframe tbody tr th {\n",
       "        vertical-align: top;\n",
       "    }\n",
       "\n",
       "    .dataframe thead th {\n",
       "        text-align: right;\n",
       "    }\n",
       "</style>\n",
       "<table border=\"1\" class=\"dataframe\">\n",
       "  <thead>\n",
       "    <tr style=\"text-align: right;\">\n",
       "      <th></th>\n",
       "      <th>speaker</th>\n",
       "      <th>F0</th>\n",
       "      <th>f1bark</th>\n",
       "      <th>f2bark</th>\n",
       "      <th>f3bark</th>\n",
       "      <th>durZ</th>\n",
       "    </tr>\n",
       "  </thead>\n",
       "  <tbody>\n",
       "    <tr>\n",
       "      <th>0</th>\n",
       "      <td>1</td>\n",
       "      <td>132.0</td>\n",
       "      <td>3.766033</td>\n",
       "      <td>11.954046</td>\n",
       "      <td>14.463584</td>\n",
       "      <td>0.652319</td>\n",
       "    </tr>\n",
       "    <tr>\n",
       "      <th>1</th>\n",
       "      <td>1</td>\n",
       "      <td>131.0</td>\n",
       "      <td>3.323425</td>\n",
       "      <td>12.670158</td>\n",
       "      <td>14.407519</td>\n",
       "      <td>1.563838</td>\n",
       "    </tr>\n",
       "    <tr>\n",
       "      <th>2</th>\n",
       "      <td>1</td>\n",
       "      <td>147.0</td>\n",
       "      <td>4.070533</td>\n",
       "      <td>13.139815</td>\n",
       "      <td>14.940423</td>\n",
       "      <td>2.856070</td>\n",
       "    </tr>\n",
       "    <tr>\n",
       "      <th>3</th>\n",
       "      <td>1</td>\n",
       "      <td>151.0</td>\n",
       "      <td>4.601947</td>\n",
       "      <td>9.453999</td>\n",
       "      <td>14.492741</td>\n",
       "      <td>1.679061</td>\n",
       "    </tr>\n",
       "    <tr>\n",
       "      <th>4</th>\n",
       "      <td>1</td>\n",
       "      <td>141.0</td>\n",
       "      <td>4.348614</td>\n",
       "      <td>9.713922</td>\n",
       "      <td>14.307432</td>\n",
       "      <td>0.138925</td>\n",
       "    </tr>\n",
       "  </tbody>\n",
       "</table>\n",
       "</div>"
      ],
      "text/plain": [
       "   speaker     F0    f1bark     f2bark     f3bark      durZ\n",
       "0        1  132.0  3.766033  11.954046  14.463584  0.652319\n",
       "1        1  131.0  3.323425  12.670158  14.407519  1.563838\n",
       "2        1  147.0  4.070533  13.139815  14.940423  2.856070\n",
       "3        1  151.0  4.601947   9.453999  14.492741  1.679061\n",
       "4        1  141.0  4.348614   9.713922  14.307432  0.138925"
      ]
     },
     "execution_count": 16,
     "metadata": {},
     "output_type": "execute_result"
    }
   ],
   "source": [
    "x = punjabiMissingDropped.drop(\"vowel\", axis = 1)\n",
    "x.head()"
   ]
  },
  {
   "cell_type": "markdown",
   "id": "848f9408",
   "metadata": {},
   "source": [
    "#create labels: vowel in this case. "
   ]
  },
  {
   "cell_type": "code",
   "execution_count": 18,
   "id": "34c3d6ac",
   "metadata": {},
   "outputs": [
    {
     "data": {
      "text/plain": [
       "0    ə\n",
       "1    ɪ\n",
       "2    ɪ\n",
       "3    ə\n",
       "4    ə\n",
       "Name: vowel, dtype: object"
      ]
     },
     "execution_count": 18,
     "metadata": {},
     "output_type": "execute_result"
    }
   ],
   "source": [
    "y = punjabiMissingDropped[\"vowel\"]\n",
    "y.head()"
   ]
  },
  {
   "cell_type": "markdown",
   "id": "091100be",
   "metadata": {},
   "source": [
    "#import classifier"
   ]
  },
  {
   "cell_type": "code",
   "execution_count": 19,
   "id": "45059d9e",
   "metadata": {},
   "outputs": [],
   "source": [
    "from sklearn.ensemble import RandomForestClassifier\n",
    "\n",
    "clf = RandomForestClassifier(random_state=0)"
   ]
  },
  {
   "cell_type": "markdown",
   "id": "b5039aba",
   "metadata": {},
   "source": [
    "#divide feature matrix(x) and labels(y) datasets into train and test data. 70% in train and 30% in test.  "
   ]
  },
  {
   "cell_type": "code",
   "execution_count": 20,
   "id": "101aa1c0",
   "metadata": {},
   "outputs": [],
   "source": [
    "from sklearn.model_selection import train_test_split\n",
    "\n",
    "xtrain, xtest, ytrain, ytest = train_test_split(x, y, test_size = 0.3, random_state=0)"
   ]
  },
  {
   "cell_type": "code",
   "execution_count": 21,
   "id": "471bc1f4",
   "metadata": {},
   "outputs": [
    {
     "data": {
      "text/plain": [
       "(2182, 6)"
      ]
     },
     "execution_count": 21,
     "metadata": {},
     "output_type": "execute_result"
    }
   ],
   "source": [
    "xtrain.shape"
   ]
  },
  {
   "cell_type": "code",
   "execution_count": 22,
   "id": "6a37cd21",
   "metadata": {},
   "outputs": [
    {
     "data": {
      "text/plain": [
       "(2182,)"
      ]
     },
     "execution_count": 22,
     "metadata": {},
     "output_type": "execute_result"
    }
   ],
   "source": [
    "ytrain.shape"
   ]
  },
  {
   "cell_type": "markdown",
   "id": "776d5267",
   "metadata": {},
   "source": [
    "#train the model"
   ]
  },
  {
   "cell_type": "code",
   "execution_count": 23,
   "id": "1e4860dc",
   "metadata": {},
   "outputs": [],
   "source": [
    "feature_names = [f\"feature {i}\" for i in range(x.shape[1])]\n",
    "\n",
    "clf.fit(xtrain, ytrain);"
   ]
  },
  {
   "cell_type": "code",
   "execution_count": 26,
   "id": "d847797d",
   "metadata": {},
   "outputs": [],
   "source": [
    "yPreds = clf.predict(xtest)\n",
    "yPreds;"
   ]
  },
  {
   "cell_type": "markdown",
   "id": "321fddbd",
   "metadata": {},
   "source": [
    "#check accuracy score for classification"
   ]
  },
  {
   "cell_type": "code",
   "execution_count": 27,
   "id": "119f34f3",
   "metadata": {},
   "outputs": [
    {
     "data": {
      "text/plain": [
       "0.6965811965811965"
      ]
     },
     "execution_count": 27,
     "metadata": {},
     "output_type": "execute_result"
    }
   ],
   "source": [
    "clf.score(xtest, ytest)"
   ]
  },
  {
   "cell_type": "markdown",
   "id": "6c48b5e1",
   "metadata": {},
   "source": [
    "#check other metrics"
   ]
  },
  {
   "cell_type": "code",
   "execution_count": 33,
   "id": "081e0d75",
   "metadata": {},
   "outputs": [
    {
     "name": "stdout",
     "output_type": "stream",
     "text": [
      "F1: 0.677\n",
      "Precision: 0.690\n",
      "Recall: 0.697\n"
     ]
    }
   ],
   "source": [
    "from sklearn.metrics import f1_score, roc_auc_score, precision_score, recall_score\n",
    "\n",
    "f1 = f1_score(ytest, yPreds, average='weighted')\n",
    "print('F1: %.3f' % f1)\n",
    "\n",
    "precision = precision_score(ytest, yPreds, average='weighted', zero_division=1)#Caution: had to use zero_division as there are problems with model predictions. Should check.  \n",
    "print('Precision: %.3f' % precision)\n",
    "\n",
    "recall = recall_score(ytest, yPreds, average='weighted')\n",
    "print('Recall: %.3f' % recall)\n"
   ]
  },
  {
   "cell_type": "markdown",
   "id": "7218c2bb",
   "metadata": {},
   "source": [
    "#may also generate a classification report"
   ]
  },
  {
   "cell_type": "code",
   "execution_count": 38,
   "id": "a26dd30d",
   "metadata": {},
   "outputs": [
    {
     "name": "stdout",
     "output_type": "stream",
     "text": [
      "              precision    recall  f1-score   support\n",
      "\n",
      "           a       0.80      0.90      0.85       252\n",
      "           e       0.72      0.86      0.78       188\n",
      "           i       0.61      0.70      0.65        63\n",
      "           o       0.64      0.87      0.74        67\n",
      "           u       0.72      0.65      0.68        43\n",
      "           ɔ       1.00      0.00      0.00        12\n",
      "           ə       0.50      0.43      0.46       107\n",
      "           ɛ       0.64      0.66      0.65        35\n",
      "           ɪ       0.69      0.44      0.54       128\n",
      "           ʊ       0.50      0.22      0.31        41\n",
      "\n",
      "    accuracy                           0.70       936\n",
      "   macro avg       0.68      0.57      0.57       936\n",
      "weighted avg       0.69      0.70      0.68       936\n",
      "\n"
     ]
    }
   ],
   "source": [
    "from sklearn.metrics import classification_report, confusion_matrix\n",
    "print(classification_report(ytest, yPreds, zero_division=1))\n",
    "#ten fold cross validation"
   ]
  },
  {
   "cell_type": "markdown",
   "id": "94927666",
   "metadata": {},
   "source": [
    "#print confusion matrix"
   ]
  },
  {
   "cell_type": "code",
   "execution_count": 39,
   "id": "605d8c4c",
   "metadata": {},
   "outputs": [
    {
     "name": "stdout",
     "output_type": "stream",
     "text": [
      "[[226   4   0   0   0   0  14   5   2   1]\n",
      " [  2 162   5   1   0   0   7   4   7   0]\n",
      " [  0   7  44   0   0   0   0   0  12   0]\n",
      " [  0   0   0  58   4   0   2   0   0   3]\n",
      " [  1   2   0   9  28   0   2   0   0   1]\n",
      " [  6   0   0   5   0   0   1   0   0   0]\n",
      " [ 37  10   0   2   1   0  46   3   4   4]\n",
      " [  7   3   0   0   0   0   2  23   0   0]\n",
      " [  1  38  23   0   0   0   9   1  56   0]\n",
      " [  2   0   0  15   6   0   9   0   0   9]]\n"
     ]
    }
   ],
   "source": [
    "print(confusion_matrix(ytest, yPreds))"
   ]
  },
  {
   "cell_type": "markdown",
   "id": "61ad1e4a",
   "metadata": {},
   "source": [
    "#another way to visualize confusion matrix using seaborn heatmap"
   ]
  },
  {
   "cell_type": "code",
   "execution_count": 40,
   "id": "85f960d0",
   "metadata": {},
   "outputs": [
    {
     "data": {
      "image/png": "[encoded data removed]",
      "text/plain": [
       "<Figure size 432x288 with 2 Axes>"
      ]
     },
     "metadata": {},
     "output_type": "display_data"
    }
   ],
   "source": [
    "import seaborn as sns\n",
    "\n",
    "#set the font scale\n",
    "sns.set(font_scale = 1.5)\n",
    "cnf_mat = confusion_matrix(ytest, yPreds)\n",
    "\n",
    "sns.heatmap(cnf_mat);"
   ]
  },
  {
   "cell_type": "markdown",
   "id": "052a4570",
   "metadata": {},
   "source": [
    "#create a function to plot a customized confusion matrix"
   ]
  },
  {
   "cell_type": "code",
   "execution_count": 43,
   "id": "8b75652f",
   "metadata": {},
   "outputs": [
    {
     "data": {
      "image/png": "[encoded data removed]",
      "text/plain": [
       "<Figure size 720x720 with 1 Axes>"
      ]
     },
     "metadata": {},
     "output_type": "display_data"
    }
   ],
   "source": [
    "def plot_conf_mat(conf_mat):\n",
    "    \"\"\"\n",
    "    Plotting a customized confusion matrix.\n",
    "    \"\"\"\n",
    "    fig, ax = plt.subplots(figsize = (10, 10))\n",
    "    ax = sns.heatmap(cnf_mat,\n",
    "                    annot = True,\n",
    "                    cbar = False)\n",
    "    \n",
    "    #customize\n",
    "    plt.xlabel(\"True labels\")\n",
    "    plt.ylabel(\"Predicted labels\")\n",
    "    plt.title(\"Confusion matrix\")\n",
    "    \n",
    "    #can use the code below to adjust ylim if figure is cropped  \n",
    "    #bottom, top = ax.get_ylim()\n",
    "    #ax.set_ylim(bottom + 0.5, top - 0.5)\n",
    "\n",
    "\n",
    "plot_conf_mat(cnf_mat);\n"
   ]
  },
  {
   "cell_type": "markdown",
   "id": "b6f34d32",
   "metadata": {},
   "source": [
    "#yet another way to plot confusion matrix"
   ]
  },
  {
   "cell_type": "code",
   "execution_count": 55,
   "id": "e0c2c542",
   "metadata": {},
   "outputs": [
    {
     "data": {
      "text/plain": [
       "<sklearn.metrics._plot.confusion_matrix.ConfusionMatrixDisplay at 0x7f95f923f1f0>"
      ]
     },
     "execution_count": 55,
     "metadata": {},
     "output_type": "execute_result"
    },
    {
     "data": {
      "image/png": "[encoded data removed]",
      "text/plain": [
       "<Figure size 432x288 with 2 Axes>"
      ]
     },
     "metadata": {},
     "output_type": "display_data"
    }
   ],
   "source": [
    "from sklearn.metrics import plot_confusion_matrix, ConfusionMatrixDisplay\n",
    "\n",
    "plotCnf = confusion_matrix(ytest, yPreds);\n",
    "\n",
    "disp = ConfusionMatrixDisplay(confusion_matrix = plotCnf,\n",
    "                             display_labels = clf.classes_);\n",
    "disp.plot()\n",
    "#may use the code below to sav the figure as PNG image\n",
    "#fig.savefig(\"images/disp.png\");"
   ]
  },
  {
   "cell_type": "markdown",
   "id": "98cb243d",
   "metadata": {},
   "source": [
    "# feature importance based on mean decrease in impurity (MDI)\n",
    "#which features contributed the most to correct classification"
   ]
  },
  {
   "cell_type": "code",
   "execution_count": 56,
   "id": "9dd852d8",
   "metadata": {},
   "outputs": [
    {
     "name": "stdout",
     "output_type": "stream",
     "text": [
      "Elapsed time to compute the importances: 0.017 seconds\n"
     ]
    }
   ],
   "source": [
    "#print how long it took to compute importances\n",
    "import time\n",
    "\n",
    "start_time = time.time()\n",
    "importances = clf.feature_importances_\n",
    "std = np.std([tree.feature_importances_ for tree in clf.estimators_], axis=0)\n",
    "elapsed_time = time.time() - start_time\n",
    "\n",
    "print(f\"Elapsed time to compute the importances: {elapsed_time:.3f} seconds\")"
   ]
  },
  {
   "cell_type": "markdown",
   "id": "859f39b3",
   "metadata": {},
   "source": [
    "#plot impurity based importance"
   ]
  },
  {
   "cell_type": "code",
   "execution_count": 57,
   "id": "49d2b2fb",
   "metadata": {},
   "outputs": [
    {
     "data": {
      "image/png": "[encoded data removed]",
      "text/plain": [
       "<Figure size 432x288 with 1 Axes>"
      ]
     },
     "metadata": {},
     "output_type": "display_data"
    }
   ],
   "source": [
    "import pandas as pd\n",
    "\n",
    "clf_importances = pd.Series(importances, index = feature_names)\n",
    "\n",
    "fig, ax = plt.subplots()\n",
    "clf_importances.plot.bar(yerr=std, ax=ax)\n",
    "ax.set_title(\"Feature importances using MDI\")\n",
    "ax.set_ylabel(\"Mean decrease in impurity\")\n",
    "fig.tight_layout()\n",
    "#order of features:\n",
    "#speaker  \tF0 \tf1bark \tf2bark \tf3bark \tdurz\n",
    "#First two formants play the most important role, followed by normalized duration"
   ]
  },
  {
   "cell_type": "markdown",
   "id": "030cd0e3",
   "metadata": {},
   "source": [
    "# feature importance based on feature permutation"
   ]
  },
  {
   "cell_type": "markdown",
   "id": "fdf538c6",
   "metadata": {},
   "source": [
    "#compute elapsed time"
   ]
  },
  {
   "cell_type": "code",
   "execution_count": 59,
   "id": "81cdf188",
   "metadata": {},
   "outputs": [
    {
     "name": "stdout",
     "output_type": "stream",
     "text": [
      "Elapsed time to compute the importances: 1.433 seconds\n"
     ]
    }
   ],
   "source": [
    "from sklearn.inspection import permutation_importance\n",
    "\n",
    "start_time = time.time()\n",
    "result = permutation_importance(\n",
    "    clf, xtest, ytest, n_repeats=10, random_state=42, n_jobs=2)\n",
    "elapsed_time = time.time() - start_time\n",
    "print(f\"Elapsed time to compute the importances: {elapsed_time:.3f} seconds\")\n",
    "\n",
    "clf_importances = pd.Series(result.importances_mean, index=feature_names)\n"
   ]
  },
  {
   "cell_type": "markdown",
   "id": "f0585d3a",
   "metadata": {},
   "source": [
    "#plot feature importance"
   ]
  },
  {
   "cell_type": "code",
   "execution_count": 60,
   "id": "83850240",
   "metadata": {},
   "outputs": [
    {
     "data": {
      "image/png": "[encoded data removed]",
      "text/plain": [
       "<Figure size 576x576 with 1 Axes>"
      ]
     },
     "metadata": {},
     "output_type": "display_data"
    }
   ],
   "source": [
    "bars = (\"speaker\", \"F0\", \"F1bark\", \"F2bark\", \"F3bark\", \"durZ\")\n",
    "x_pos = np.arange(len(bars))\n",
    "\n",
    "\n",
    "fig, ax = plt.subplots(figsize = (8, 8))\n",
    "\n",
    "clf_importances.plot.bar(yerr=result.importances_std, ax=ax)\n",
    "ax.set_title(\"Feature importances using permutation\")\n",
    "ax.set_ylabel(\"Mean accuracy decrease\")\n",
    "fig.tight_layout()\n",
    "# Create names on the x axis\n",
    "plt.xticks(x_pos, bars)\n",
    "plt.show();\n",
    "\n",
    "#similar hierarchy of features as the one generated by MDI based importance above"
   ]
  }
 ],
 "metadata": {
  "kernelspec": {
   "display_name": "Python 3 (ipykernel)",
   "language": "python",
   "name": "python3"
  },
  "language_info": {
   "codemirror_mode": {
    "name": "ipython",
    "version": 3
   },
   "file_extension": ".py",
   "mimetype": "text/x-python",
   "name": "python",
   "nbconvert_exporter": "python",
   "pygments_lexer": "ipython3",
   "version": "3.9.7"
  }
 },
 "nbformat": 4,
 "nbformat_minor": 5
}
